{
 "cells": [
  {
   "cell_type": "code",
   "execution_count": null,
   "id": "876cab5c-4c6e-4e1f-a6a5-1a8fdb9a4de8",
   "metadata": {},
   "outputs": [],
   "source": [
    "import numpy as np\n",
    "np.random.seed(1337)  # for reproducibility\n",
    "from sklearn.datasets import load_digits\n",
    "from sklearn.model_selection import train_test_split\n",
    "from sklearn.metrics import accuracy_score,recall_score,confusion_matrix,f1_score,precision_score\n",
    "from sklearn.metrics import cohen_kappa_score,hamming_loss,precision_recall_curve\n",
    "from sklearn.metrics import roc_curve,auc\n",
    "from sklearn.metrics import classification_report\n",
    "from matplotlib import pyplot as plt\n",
    "from DBN.models import SupervisedDBNClassification\n",
    "import tensorflow._api.v2.compat.v1 as tf\n",
    "#import tensorflow.compat.v1 as tf ###\n",
    "#tf.disable_v2_behavior()\n",
    "import  pandas as pd\n",
    "#import eli5\n",
    "#from eli5.sklearn import PermutationImportance\n",
    "#import shap\n",
    "from sklearn.preprocessing import normalize\n",
    "from sklearn.preprocessing import MinMaxScaler"
   ]
  },
  {
   "cell_type": "code",
   "execution_count": null,
   "id": "c298abef",
   "metadata": {},
   "outputs": [],
   "source": [
    "# Loading dataset\n",
    "# digits = load_digits()\n",
    "# X, Y = digits.data, digits.target\n",
    "#data = pd.read_csv(r'Ctrain.csv',sep=',')\n",
    "data = pd.read_csv('test_files.csv',sep=',')\n",
    "data_= pd.read_csv('predict_files.csv',sep=',')\n",
    "data_.dropna(inplace=True)\n",
    "label_index = 7\n",
    "dim  = 7\n",
    "# data[label_index] = data[label_index].map({1:1, 2:-1})\n",
    "data = data.sample(frac=1.0)\n",
    "data = data.reset_index()\n",
    "x = data.drop(['landslide'],axis=1)\n",
    "print(x.shape)\n",
    "x = x.drop(['index'],axis=1)\n",
    "x = np.array(x)\n",
    "print(x.shape)\n",
    "std=MinMaxScaler((0,1))\n",
    "x=std.fit_transform(x)\n",
    "y = data['landslide']\n",
    "y = pd.to_numeric( y, errors='coerce').fillna('0').astype('int32')\n",
    "# Data scaling\n",
    "# X = (X / 16).astype(np.float32)"
   ]
  },
  {
   "cell_type": "code",
   "execution_count": null,
   "id": "54552af7",
   "metadata": {},
   "outputs": [],
   "source": [
    "data_ = data_.sample(frac=1.0)\n",
    "data_ = data_.reset_index()\n",
    "x_ = data_.drop(['landslide','pre1'],axis=1)\n",
    "x_ = x_.drop(['index'],axis=1)\n",
    "x_ = np.array(x_)\n",
    "res=x_\n",
    "print(x_.shape)\n",
    "std=MinMaxScaler((0,1))\n",
    "x_=std.fit_transform(x_)\n",
    "y_ = data_['landslide']\n",
    "y_ = pd.to_numeric( y_, errors='coerce').fillna('0').astype('int32')"
   ]
  },
  {
   "cell_type": "code",
   "execution_count": null,
   "id": "d8479df4",
   "metadata": {
    "scrolled": true
   },
   "outputs": [],
   "source": [
    "# Splitting data\n",
    "X_train, X_test, Y_train, Y_test = train_test_split(x, y, test_size=0.3, random_state=1)#random_state=0\n",
    "X_train[:,2:]\n",
    "# Training\n",
    "classifier = SupervisedDBNClassification(hidden_layers_structure=[100, 100],\n",
    "                                         learning_rate_rbm=0.07, \n",
    "                                         learning_rate=0.15,\n",
    "                                         n_epochs_rbm=16,\n",
    "                                         n_iter_backprop=500,\n",
    "                                         batch_size=20,\n",
    "                                         activation_function='relu',\n",
    "                                         dropout_p=0)\n",
    "classifier.fit(X_train[:,2:], Y_train)"
   ]
  },
  {
   "cell_type": "code",
   "execution_count": null,
   "id": "9f9d86de",
   "metadata": {},
   "outputs": [],
   "source": [
    "# Test\n",
    "Y_pred = classifier.predict(X_test[:,2:])\n",
    "\n",
    "Y_pred_p = classifier.predict_proba(X_test[:,2:])[:,1]\n",
    "#Y_pred_p = classifier.predict_proba_dict(X_test[:,2:])[:]\n",
    "\n",
    "Y_pred = np.array(Y_pred)\n",
    "Y_test_1 = np.array(Y_test)\n",
    "##Y_pred_p = np.array(Y_pred_p)\n",
    "Y_pred_1 = np.reshape(Y_pred,(len(Y_pred),1))\n",
    "Y_test_1 = np.reshape(Y_test_1,(len(Y_test_1),1))\n",
    "##Y_pred_p = np.reshape(Y_pred_p,(len(Y_pred_p),1))\n",
    "#Y_pred_1\n",
    "\n",
    "print('Done.\\nAccuracy: %f' % accuracy_score(Y_test, Y_pred))\n",
    "print('Done.\\nprecision_score: %f' % precision_score(Y_test, Y_pred))\n",
    "print('Done.\\nrecall_score: %f' % recall_score(Y_test, Y_pred))\n",
    "print('Done.\\nf1_score: %f' % f1_score(Y_test, Y_pred))\n",
    "print('Done.\\nconfusion_matrix: ' )\n",
    "print(confusion_matrix(Y_test, Y_pred))\n",
    "print('Done.\\ncohen_kappa_score: %f' % cohen_kappa_score(Y_test, Y_pred))\n",
    "print('Done.\\nhamming_loss: %f' % hamming_loss(Y_test, Y_pred))\n",
    "fpr,tpr,threshold= roc_curve(Y_test,Y_pred_p)\n",
    "#print('Done.\\nauc: %f' % auc(fpr, tpr))\n",
    "##target_names = ['class 0','class 1','class 2', 'class 3']\n",
    "##print(classification_report(Y_test, Y_pred, target_names=target_names))"
   ]
  },
  {
   "cell_type": "code",
   "execution_count": null,
   "id": "fbee99ea",
   "metadata": {},
   "outputs": [],
   "source": [
    "# Test\n",
    "y_pred = classifier.predict(x_[:,2:])\n",
    "y_pred_p = classifier.predict_proba(x_[:,2:])[:,1]\n",
    "y_pred = np.array(y_pred)\n",
    "y_test_1 = np.array(y_)\n",
    "##y_pred_p = np.array(y_pred_p) \n",
    "y_pred_1 = np.reshape(y_pred,(len(y_pred),1))\n",
    "y_test_1 = np.reshape(y_test_1,(len(y_test_1),1))\n",
    "##y_pred_p = np.reshape(y_pred_p,(len(y_pred_p),1))"
   ]
  },
  {
   "cell_type": "code",
   "execution_count": null,
   "id": "9da33316",
   "metadata": {},
   "outputs": [],
   "source": [
    "all_save_data = np.concatenate((res,y_test_1),axis=1)\n",
    "mode=0\n",
    "if mode==0:\n",
    "    all_save_data = np.concatenate((all_save_data,y_pred_1),axis=1)\n",
    "else:\n",
    "    all_save_data = np.concatenate((all_save_data,y_pred_p),axis=1)\n",
    "all_save_data_pd = pd.DataFrame(all_save_data,columns=['x','y','road','PGA',\n",
    " 'river','fault','lithology','NDVI','Ht','landslide','predict'])\n",
    " # np.savetxt('data.csv',all_save_data,delimiter=',')\n",
    "all_save_data_pd.to_csv('result.csv',index=True)\n",
    "# y_test_1.shape"
   ]
  },
  {
   "cell_type": "code",
   "execution_count": null,
   "id": "14079a1f",
   "metadata": {
    "tags": []
   },
   "outputs": [],
   "source": [
    "precision, recall, thresholds = precision_recall_curve(np.array(Y_test),Y_pred_p)\n",
    "plt.figure(figsize=(5,4),dpi=100)\n",
    "plt.plot(fpr,tpr)\n",
    "plt.plot([0,1],[0,1],linestyle='--')\n",
    "plt.xlabel('False Postive Rate')\n",
    "plt.ylabel('True Positive Rate')\n",
    "plt.grid()\n",
    "plt.show()\n",
    "plt.figure(figsize=(5,4),dpi=100)\n",
    "plt.plot(precision,recall)\n",
    "plt.plot([0,1],[1,0],linestyle='--')\n",
    "plt.xlabel('recall')\n",
    "plt.ylabel('precision')\n",
    "plt.grid()\n",
    "plt.show()"
   ]
  },
  {
   "cell_type": "code",
   "execution_count": null,
   "id": "78adce66",
   "metadata": {
    "tags": []
   },
   "outputs": [],
   "source": [
    "Y_pred = classifier.predict(X_train[:,2:])\n",
    "Y_pred_p = classifier.predict_proba(X_train[:,2:])[:,1]\n",
    "print('Done.\\nconfusion_matrix: ' )\n",
    "print(confusion_matrix(Y_train, Y_pred))\n",
    "print('Done.\\ncohen_kappa_score: %f' % cohen_kappa_score(Y_train, Y_pred))\n",
    "\n",
    "fpr,tpr,threshold= roc_curve(Y_train,Y_pred_p)\n",
    "precision, recall, thresholds = precision_recall_curve(np.array(Y_train),Y_pred_p)\n",
    "plt.figure(figsize=(5,4),dpi=100)\n",
    "plt.plot(fpr,tpr)\n",
    "plt.plot([0,1],[0,1],linestyle='--')\n",
    "plt.xlabel('False Postive Rate')\n",
    "plt.ylabel('True Positive Rate')\n",
    "plt.grid()\n",
    "plt.show()\n",
    "plt.figure(figsize=(5,4),dpi=100)\n",
    "plt.plot(precision,recall)\n",
    "plt.plot([0,1],[1,0],linestyle='--')#\n",
    "plt.xlabel('recall')\n",
    "plt.ylabel('precision')\n",
    "plt.grid()\n",
    "plt.show()"
   ]
  },
  {
   "cell_type": "code",
   "execution_count": null,
   "id": "3650a49c",
   "metadata": {},
   "outputs": [],
   "source": []
  }
 ],
 "metadata": {
  "kernelspec": {
   "display_name": "Python 3",
   "language": "python",
   "name": "python3"
  },
  "language_info": {
   "codemirror_mode": {
    "name": "ipython",
    "version": 3
   },
   "file_extension": ".py",
   "mimetype": "text/x-python",
   "name": "python",
   "nbconvert_exporter": "python",
   "pygments_lexer": "ipython3",
   "version": "3.8.8"
  }
 },
 "nbformat": 4,
 "nbformat_minor": 5
}
